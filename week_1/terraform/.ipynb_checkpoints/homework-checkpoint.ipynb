{
 "cells": [
  {
   "cell_type": "markdown",
   "id": "cc95ba04",
   "metadata": {},
   "source": [
    "https://github.com/DataTalksClub/data-engineering-zoomcamp/blob/main/cohorts/2023/week_1_terraform/homework.md"
   ]
  },
  {
   "cell_type": "markdown",
   "id": "e9671b8f",
   "metadata": {},
   "source": [
    "# Question 1. Creating Resources"
   ]
  },
  {
   "cell_type": "markdown",
   "id": "2fbcf0f6",
   "metadata": {},
   "source": [
    "After updating the main.tf and variable.tf files run:\n",
    "\n",
    "**terraform apply**\n",
    "\n",
    "Paste the output of this command into the homework submission form."
   ]
  },
  {
   "cell_type": "markdown",
   "id": "aa23db03",
   "metadata": {},
   "source": [
    "* google_bigquery_dataset.dataset: Creating...\n",
    "* google_storage_bucket.data-lake-bucket: Creating...\n",
    "* google_bigquery_dataset.dataset: Creation complete after 1s [id=projects/zoomcamp-de-375610/datasets/trips_data_all]\n",
    "* google_storage_bucket.data-lake-bucket: Creation complete after 2s [id=dtc_data_lake_zoomcamp-de-375610]"
   ]
  },
  {
   "cell_type": "markdown",
   "id": "c6f90e38",
   "metadata": {},
   "source": [
    "**Apply complete! Resources: 2 added, 0 changed, 0 destroyed.**"
   ]
  },
  {
   "cell_type": "code",
   "execution_count": null,
   "id": "3ea05fa7",
   "metadata": {},
   "outputs": [],
   "source": []
  }
 ],
 "metadata": {
  "kernelspec": {
   "display_name": "Python 3 (ipykernel)",
   "language": "python",
   "name": "python3"
  },
  "language_info": {
   "codemirror_mode": {
    "name": "ipython",
    "version": 3
   },
   "file_extension": ".py",
   "mimetype": "text/x-python",
   "name": "python",
   "nbconvert_exporter": "python",
   "pygments_lexer": "ipython3",
   "version": "3.9.15"
  }
 },
 "nbformat": 4,
 "nbformat_minor": 5
}

{
 "cells": [
  {
   "cell_type": "markdown",
   "id": "9d58cf29",
   "metadata": {},
   "source": [
    "# Week 6 homework"
   ]
  },
  {
   "cell_type": "markdown",
   "id": "2ac3c89d",
   "metadata": {},
   "source": [
    "https://github.com/DataTalksClub/data-engineering-zoomcamp/blob/main/cohorts/2023/week_6_stream_processing/homework.md"
   ]
  },
  {
   "cell_type": "markdown",
   "id": "d9413de2",
   "metadata": {},
   "source": [
    "In this homework, there will be two sections, the first session focus on theoretical questions related to Kafka and streaming concepts and the second session asks to create a small streaming application using preferred programming language (Python or Java)."
   ]
  },
  {
   "cell_type": "markdown",
   "id": "342c75c3",
   "metadata": {},
   "source": [
    "# Question 1:"
   ]
  },
  {
   "cell_type": "markdown",
   "id": "ead3e575",
   "metadata": {},
   "source": [
    "Please select the statements that are correct"
   ]
  },
  {
   "cell_type": "markdown",
   "id": "668d8320",
   "metadata": {},
   "source": [
    "1. Kafka Node is responsible to store topics\n",
    "2. Zookeeper is removed from Kafka cluster starting from version 4.0\n",
    "3. Retention configuration ensures the messages not get lost over specific period of time.\n",
    "4. Group-Id ensures the messages are distributed to associated consumers"
   ]
  },
  {
   "cell_type": "markdown",
   "id": "82593ff0",
   "metadata": {},
   "source": [
    "Answer: __All__"
   ]
  },
  {
   "cell_type": "markdown",
   "id": "f5608cc5",
   "metadata": {},
   "source": [
    "# Question 2:"
   ]
  },
  {
   "cell_type": "markdown",
   "id": "5fd95814",
   "metadata": {},
   "source": [
    "Please select the Kafka concepts that support reliability and availability"
   ]
  },
  {
   "cell_type": "markdown",
   "id": "7077fa14",
   "metadata": {},
   "source": [
    "1. Topic Replication\n",
    "2. Topic Paritioning\n",
    "3. Consumer Group Id\n",
    "4. Ack All"
   ]
  },
  {
   "cell_type": "markdown",
   "id": "2b664464",
   "metadata": {},
   "source": [
    "Answer: __1,4__"
   ]
  },
  {
   "cell_type": "markdown",
   "id": "8e70ba72",
   "metadata": {},
   "source": [
    "# Question 3:"
   ]
  },
  {
   "cell_type": "markdown",
   "id": "58e18e29",
   "metadata": {},
   "source": [
    "Please select the Kafka concepts that support scaling"
   ]
  },
  {
   "cell_type": "markdown",
   "id": "24256e6b",
   "metadata": {},
   "source": [
    "1. Topic Replication\n",
    "2. Topic Paritioning\n",
    "3. Consumer Group Id\n",
    "4. Ack All"
   ]
  },
  {
   "cell_type": "markdown",
   "id": "7c34ad56",
   "metadata": {},
   "source": [
    "Answer: __2,3__"
   ]
  },
  {
   "cell_type": "markdown",
   "id": "596ca68d",
   "metadata": {},
   "source": [
    "# Question 4:"
   ]
  },
  {
   "cell_type": "markdown",
   "id": "b6cb65da",
   "metadata": {},
   "source": [
    "Please select the attributes that are good candidates for partitioning key. \n",
    "Consider cardinality of the field you have selected and scaling aspects of your application\n",
    "\n",
    "1. payment_type\n",
    "2. vendor_id\n",
    "3. passenger_count\n",
    "4. total_amount\n",
    "5. tpep_pickup_datetime\n",
    "6. tpep_dropoff_datetime"
   ]
  },
  {
   "cell_type": "markdown",
   "id": "73b65b92",
   "metadata": {},
   "source": [
    "Answer: __1,2,3__"
   ]
  },
  {
   "cell_type": "markdown",
   "id": "643206f4",
   "metadata": {},
   "source": [
    "# Question 5: "
   ]
  },
  {
   "cell_type": "markdown",
   "id": "01b1b14e",
   "metadata": {},
   "source": [
    "Which configurations below should be provided for Kafka Consumer but not needed for Kafka Producer\n",
    "\n",
    "1. Deserializer Configuration\n",
    "2. Topics Subscription\n",
    "3. Bootstrap Server\n",
    "4. Group-Id\n",
    "5. Offset\n",
    "6. Cluster Key and Cluster-Secret"
   ]
  },
  {
   "cell_type": "markdown",
   "id": "cd8eca17",
   "metadata": {},
   "source": [
    "Answer: __1,2,4__"
   ]
  },
  {
   "cell_type": "markdown",
   "id": "1330cf2d",
   "metadata": {},
   "source": [
    "# Question 6:"
   ]
  },
  {
   "cell_type": "markdown",
   "id": "b6d792a9",
   "metadata": {},
   "source": [
    "Please implement a streaming application, for finding out popularity of PUlocationID across green and fhv trip datasets.\n",
    "Please use the datasets [fhv_tripdata_2019-01.csv.gz](https://github.com/DataTalksClub/nyc-tlc-data/releases/tag/fhv) \n",
    "and [green_tripdata_2019-01.csv.gz](https://github.com/DataTalksClub/nyc-tlc-data/releases/tag/green)\n",
    "\n",
    "PS: If you encounter memory related issue, you can use the smaller portion of these two datasets as well, \n",
    "it is not necessary to find exact number in the  question.\n",
    "\n",
    "Your code should include following\n",
    "1. Producer that reads csv files and publish rides in corresponding kafka topics (such as rides_green, rides_fhv)\n",
    "2. Pyspark-streaming-application that reads two kafka topics\n",
    "   and writes both of them in topic rides_all and apply aggregations to find most popular pickup location."
   ]
  },
  {
   "cell_type": "code",
   "execution_count": null,
   "id": "cc1cf8fb",
   "metadata": {},
   "outputs": [],
   "source": []
  }
 ],
 "metadata": {
  "kernelspec": {
   "display_name": "Python 3 (ipykernel)",
   "language": "python",
   "name": "python3"
  },
  "language_info": {
   "codemirror_mode": {
    "name": "ipython",
    "version": 3
   },
   "file_extension": ".py",
   "mimetype": "text/x-python",
   "name": "python",
   "nbconvert_exporter": "python",
   "pygments_lexer": "ipython3",
   "version": "3.9.15"
  }
 },
 "nbformat": 4,
 "nbformat_minor": 5
}
